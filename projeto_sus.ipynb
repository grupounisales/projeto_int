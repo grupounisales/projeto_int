{
  "nbformat": 4,
  "nbformat_minor": 0,
  "metadata": {
    "colab": {
      "name": "projeto_sus.ipynb",
      "provenance": [],
      "collapsed_sections": [],
      "authorship_tag": "ABX9TyNALnBlxGny8CKt3Gt6b7yr"
    },
    "kernelspec": {
      "name": "python3",
      "display_name": "Python 3"
    },
    "language_info": {
      "name": "python"
    }
  },
  "cells": [
    {
      "cell_type": "code",
      "metadata": {
        "id": "gGG911c_GrVg"
      },
      "source": [
        ""
      ],
      "execution_count": null,
      "outputs": []
    },
    {
      "cell_type": "markdown",
      "metadata": {
        "id": "cbuSRFxcDkXX"
      },
      "source": [
        "**Gráfico de Barras - Índice Anual de Mortes Gestacionais Por Localidade**"
      ]
    },
    {
      "cell_type": "code",
      "metadata": {
        "id": "fs-Rv2rdDxGW"
      },
      "source": [
        "import pandas as pd\n",
        "import numpy as np\n",
        "import matplotlib.pyplot as plt\n",
        "\n",
        "estados = [\"AC\", \"AL\", \"AM\", \"AP\", \"BA\", \"CE\", \"DF\", \"ES\", \"GO\", \"MA\", \"MT\", \"MS\", \"MG\", \"PA\", \"PB\", \"PR\", \"PE\", \"PI\", \"RJ\", \"RN\", \"RO\", \"RS\", \"RR\", \"SC\", \"SE\", \"SP\", \"TO\"]\n",
        "morte_gest = [33, 20, 30, 40, 150, 60, 170, 23, 190, 100, 115, 120, 270, 140, 50, 160, 70, 180, 90, 55, 210, 220, 57, 66, 250, 74, 70]\n",
        "#meses = ['jan', 'fev', 'mar', 'abr', 'mai', 'jun', 'jul', 'ago', 'set', 'out', 'nov', 'dez']\n",
        "\n",
        "plt.figure(figsize=(12,8))\n",
        "plt.title('Índice Anual de Mortes Gestacionais Por Localidade\\n\\n\\n\\n')\n",
        "plt.xlabel('Estados', color=\"blue\", size=\"12\")\n",
        "plt.ylabel('Mortes gestacionais', color=\"red\", size=\"12\")\n",
        "plt.bar(estados, morte_gest, color=\"gray\")"
      ],
      "execution_count": null,
      "outputs": []
    },
    {
      "cell_type": "markdown",
      "metadata": {
        "id": "906y2VRpD5Oy"
      },
      "source": [
        "**Gráfico de Pizza - Índice Anual de Mortes Gestacionais Por Localidade**"
      ]
    },
    {
      "cell_type": "code",
      "metadata": {
        "id": "Jn7K28wtD-Cm"
      },
      "source": [
        "import matplotlib.pyplot as plt\n",
        "\n",
        "estados = [\"RR\", \"AL\", \"MG\", \"TO\", \"PA\", \"CE\", \"DF\", \"ES\", \"GO\", \"MA\", \"MT\", \"MS\", \"AM\", \"BA\", \"PB\", \"PR\", \"PE\", \"PI\", \"RJ\", \"RN\", \"RO\", \"RS\", \"AC\", \"SC\", \"SE\", \"SP\", \"AP\"]\n",
        "morte_gest = [10, 20, 30, 40, 50, 60, 70, 80, 90, 100, 110, 120, 130, 140, 150, 160, 170, 180, 190, 200, 210, 220, 230, 240, 250, 260, 270]\n",
        " \n",
        "fig1, ax1 = plt.subplots(figsize=(12, 5))\n",
        "fig1.subplots_adjust(0.1,0.2,1,1.6)\n",
        " \n",
        "theme = plt.get_cmap('Blues')\n",
        "ax1.set_prop_cycle(\"color\", [theme(1. * i / len(morte_gest))\n",
        "                             for i in range(len(morte_gest))]) \n",
        "\n",
        "explode = (0, 0, 0, 0, 0, 0, 0, 0, 0, 0, 0, 0, 0, 0, 0, 0, 0, 0, 0, 0, 0, 0, 0, 0, 0, 0, 0.1) \n",
        "\n",
        "plt.title('Índice Anual de Mortes Gestacionais Por Localidade\\n\\n\\n\\n')\n",
        "\n",
        "ax1.pie(morte_gest, labels=estados, autopct='%1.1f%%', explode=explode)\n",
        "\n",
        "ax1.axis('equal')\n",
        "\n",
        "#plt.legend(estados, loc='best')\n",
        " \n",
        "plt.show()"
      ],
      "execution_count": null,
      "outputs": []
    }
  ]
}